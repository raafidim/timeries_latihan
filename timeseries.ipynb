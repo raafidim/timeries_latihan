{
  "nbformat": 4,
  "nbformat_minor": 0,
  "metadata": {
    "colab": {
      "name": "timeseries.ipynb",
      "provenance": [],
      "collapsed_sections": []
    },
    "kernelspec": {
      "display_name": "Python 3",
      "name": "python3"
    },
    "language_info": {
      "name": "python"
    },
    "widgets": {
      "application/vnd.jupyter.widget-state+json": {
        "e471e206d67a4efdbe0cf24fa2738b01": {
          "model_module": "@jupyter-widgets/controls",
          "model_name": "HBoxModel",
          "state": {
            "_dom_classes": [],
            "_model_module": "@jupyter-widgets/controls",
            "_model_module_version": "1.5.0",
            "_model_name": "HBoxModel",
            "_view_count": null,
            "_view_module": "@jupyter-widgets/controls",
            "_view_module_version": "1.5.0",
            "_view_name": "HBoxView",
            "box_style": "",
            "children": [
              "IPY_MODEL_282c9fe20c9b41c6af3576689b0bcad5",
              "IPY_MODEL_19b69708e6564162ad95aac74529d2af"
            ],
            "layout": "IPY_MODEL_85da26de5255498d935d8efbd700812a"
          }
        },
        "282c9fe20c9b41c6af3576689b0bcad5": {
          "model_module": "@jupyter-widgets/controls",
          "model_name": "FloatProgressModel",
          "state": {
            "_dom_classes": [],
            "_model_module": "@jupyter-widgets/controls",
            "_model_module_version": "1.5.0",
            "_model_name": "FloatProgressModel",
            "_view_count": null,
            "_view_module": "@jupyter-widgets/controls",
            "_view_module_version": "1.5.0",
            "_view_name": "ProgressView",
            "bar_style": "success",
            "description": "100%",
            "description_tooltip": null,
            "layout": "IPY_MODEL_24a88d1bf0994a9e8b76ab3b38986c72",
            "max": 13907,
            "min": 0,
            "orientation": "horizontal",
            "style": "IPY_MODEL_b044362013ce47ceb2dfa5831baa2812",
            "value": 13907
          }
        },
        "19b69708e6564162ad95aac74529d2af": {
          "model_module": "@jupyter-widgets/controls",
          "model_name": "HTMLModel",
          "state": {
            "_dom_classes": [],
            "_model_module": "@jupyter-widgets/controls",
            "_model_module_version": "1.5.0",
            "_model_name": "HTMLModel",
            "_view_count": null,
            "_view_module": "@jupyter-widgets/controls",
            "_view_module_version": "1.5.0",
            "_view_name": "HTMLView",
            "description": "",
            "description_tooltip": null,
            "layout": "IPY_MODEL_458fe4f5eec64e8aa132eff4dfd5d096",
            "placeholder": "​",
            "style": "IPY_MODEL_0a40421031a449639bba8bbd6c9a165b",
            "value": " 13907/13907 [01:33&lt;00:00, 149.53it/s]"
          }
        },
        "85da26de5255498d935d8efbd700812a": {
          "model_module": "@jupyter-widgets/base",
          "model_name": "LayoutModel",
          "state": {
            "_model_module": "@jupyter-widgets/base",
            "_model_module_version": "1.2.0",
            "_model_name": "LayoutModel",
            "_view_count": null,
            "_view_module": "@jupyter-widgets/base",
            "_view_module_version": "1.2.0",
            "_view_name": "LayoutView",
            "align_content": null,
            "align_items": null,
            "align_self": null,
            "border": null,
            "bottom": null,
            "display": null,
            "flex": null,
            "flex_flow": null,
            "grid_area": null,
            "grid_auto_columns": null,
            "grid_auto_flow": null,
            "grid_auto_rows": null,
            "grid_column": null,
            "grid_gap": null,
            "grid_row": null,
            "grid_template_areas": null,
            "grid_template_columns": null,
            "grid_template_rows": null,
            "height": null,
            "justify_content": null,
            "justify_items": null,
            "left": null,
            "margin": null,
            "max_height": null,
            "max_width": null,
            "min_height": null,
            "min_width": null,
            "object_fit": null,
            "object_position": null,
            "order": null,
            "overflow": null,
            "overflow_x": null,
            "overflow_y": null,
            "padding": null,
            "right": null,
            "top": null,
            "visibility": null,
            "width": null
          }
        },
        "24a88d1bf0994a9e8b76ab3b38986c72": {
          "model_module": "@jupyter-widgets/base",
          "model_name": "LayoutModel",
          "state": {
            "_model_module": "@jupyter-widgets/base",
            "_model_module_version": "1.2.0",
            "_model_name": "LayoutModel",
            "_view_count": null,
            "_view_module": "@jupyter-widgets/base",
            "_view_module_version": "1.2.0",
            "_view_name": "LayoutView",
            "align_content": null,
            "align_items": null,
            "align_self": null,
            "border": null,
            "bottom": null,
            "display": null,
            "flex": null,
            "flex_flow": null,
            "grid_area": null,
            "grid_auto_columns": null,
            "grid_auto_flow": null,
            "grid_auto_rows": null,
            "grid_column": null,
            "grid_gap": null,
            "grid_row": null,
            "grid_template_areas": null,
            "grid_template_columns": null,
            "grid_template_rows": null,
            "height": null,
            "justify_content": null,
            "justify_items": null,
            "left": null,
            "margin": null,
            "max_height": null,
            "max_width": null,
            "min_height": null,
            "min_width": null,
            "object_fit": null,
            "object_position": null,
            "order": null,
            "overflow": null,
            "overflow_x": null,
            "overflow_y": null,
            "padding": null,
            "right": null,
            "top": null,
            "visibility": null,
            "width": null
          }
        },
        "b044362013ce47ceb2dfa5831baa2812": {
          "model_module": "@jupyter-widgets/controls",
          "model_name": "ProgressStyleModel",
          "state": {
            "_model_module": "@jupyter-widgets/controls",
            "_model_module_version": "1.5.0",
            "_model_name": "ProgressStyleModel",
            "_view_count": null,
            "_view_module": "@jupyter-widgets/base",
            "_view_module_version": "1.2.0",
            "_view_name": "StyleView",
            "bar_color": null,
            "description_width": "initial"
          }
        },
        "458fe4f5eec64e8aa132eff4dfd5d096": {
          "model_module": "@jupyter-widgets/base",
          "model_name": "LayoutModel",
          "state": {
            "_model_module": "@jupyter-widgets/base",
            "_model_module_version": "1.2.0",
            "_model_name": "LayoutModel",
            "_view_count": null,
            "_view_module": "@jupyter-widgets/base",
            "_view_module_version": "1.2.0",
            "_view_name": "LayoutView",
            "align_content": null,
            "align_items": null,
            "align_self": null,
            "border": null,
            "bottom": null,
            "display": null,
            "flex": null,
            "flex_flow": null,
            "grid_area": null,
            "grid_auto_columns": null,
            "grid_auto_flow": null,
            "grid_auto_rows": null,
            "grid_column": null,
            "grid_gap": null,
            "grid_row": null,
            "grid_template_areas": null,
            "grid_template_columns": null,
            "grid_template_rows": null,
            "height": null,
            "justify_content": null,
            "justify_items": null,
            "left": null,
            "margin": null,
            "max_height": null,
            "max_width": null,
            "min_height": null,
            "min_width": null,
            "object_fit": null,
            "object_position": null,
            "order": null,
            "overflow": null,
            "overflow_x": null,
            "overflow_y": null,
            "padding": null,
            "right": null,
            "top": null,
            "visibility": null,
            "width": null
          }
        },
        "0a40421031a449639bba8bbd6c9a165b": {
          "model_module": "@jupyter-widgets/controls",
          "model_name": "DescriptionStyleModel",
          "state": {
            "_model_module": "@jupyter-widgets/controls",
            "_model_module_version": "1.5.0",
            "_model_name": "DescriptionStyleModel",
            "_view_count": null,
            "_view_module": "@jupyter-widgets/base",
            "_view_module_version": "1.2.0",
            "_view_name": "StyleView",
            "description_width": ""
          }
        },
        "5354f941447d4c3a910f152d81d8d311": {
          "model_module": "@jupyter-widgets/controls",
          "model_name": "HBoxModel",
          "state": {
            "_dom_classes": [],
            "_model_module": "@jupyter-widgets/controls",
            "_model_module_version": "1.5.0",
            "_model_name": "HBoxModel",
            "_view_count": null,
            "_view_module": "@jupyter-widgets/controls",
            "_view_module_version": "1.5.0",
            "_view_name": "HBoxView",
            "box_style": "",
            "children": [
              "IPY_MODEL_61c9cd41116746c1b15a2b0acc2ea7cd",
              "IPY_MODEL_3d13ffef27b84529bb350ae7a03fc65b"
            ],
            "layout": "IPY_MODEL_96ee1da9fb0b46cc908eebea469ec875"
          }
        },
        "61c9cd41116746c1b15a2b0acc2ea7cd": {
          "model_module": "@jupyter-widgets/controls",
          "model_name": "FloatProgressModel",
          "state": {
            "_dom_classes": [],
            "_model_module": "@jupyter-widgets/controls",
            "_model_module_version": "1.5.0",
            "_model_name": "FloatProgressModel",
            "_view_count": null,
            "_view_module": "@jupyter-widgets/controls",
            "_view_module_version": "1.5.0",
            "_view_name": "ProgressView",
            "bar_style": "success",
            "description": "100%",
            "description_tooltip": null,
            "layout": "IPY_MODEL_08932701a0b546f4b89ad9c831f20dca",
            "max": 3459,
            "min": 0,
            "orientation": "horizontal",
            "style": "IPY_MODEL_0a63eeb388e549ca80fea40e89e50194",
            "value": 3459
          }
        },
        "3d13ffef27b84529bb350ae7a03fc65b": {
          "model_module": "@jupyter-widgets/controls",
          "model_name": "HTMLModel",
          "state": {
            "_dom_classes": [],
            "_model_module": "@jupyter-widgets/controls",
            "_model_module_version": "1.5.0",
            "_model_name": "HTMLModel",
            "_view_count": null,
            "_view_module": "@jupyter-widgets/controls",
            "_view_module_version": "1.5.0",
            "_view_name": "HTMLView",
            "description": "",
            "description_tooltip": null,
            "layout": "IPY_MODEL_0518a5351b7b4a95a2a0bd4cd742e85a",
            "placeholder": "​",
            "style": "IPY_MODEL_979193c481354de28d09629b71addd8d",
            "value": " 3459/3459 [00:24&lt;00:00, 142.27it/s]"
          }
        },
        "96ee1da9fb0b46cc908eebea469ec875": {
          "model_module": "@jupyter-widgets/base",
          "model_name": "LayoutModel",
          "state": {
            "_model_module": "@jupyter-widgets/base",
            "_model_module_version": "1.2.0",
            "_model_name": "LayoutModel",
            "_view_count": null,
            "_view_module": "@jupyter-widgets/base",
            "_view_module_version": "1.2.0",
            "_view_name": "LayoutView",
            "align_content": null,
            "align_items": null,
            "align_self": null,
            "border": null,
            "bottom": null,
            "display": null,
            "flex": null,
            "flex_flow": null,
            "grid_area": null,
            "grid_auto_columns": null,
            "grid_auto_flow": null,
            "grid_auto_rows": null,
            "grid_column": null,
            "grid_gap": null,
            "grid_row": null,
            "grid_template_areas": null,
            "grid_template_columns": null,
            "grid_template_rows": null,
            "height": null,
            "justify_content": null,
            "justify_items": null,
            "left": null,
            "margin": null,
            "max_height": null,
            "max_width": null,
            "min_height": null,
            "min_width": null,
            "object_fit": null,
            "object_position": null,
            "order": null,
            "overflow": null,
            "overflow_x": null,
            "overflow_y": null,
            "padding": null,
            "right": null,
            "top": null,
            "visibility": null,
            "width": null
          }
        },
        "08932701a0b546f4b89ad9c831f20dca": {
          "model_module": "@jupyter-widgets/base",
          "model_name": "LayoutModel",
          "state": {
            "_model_module": "@jupyter-widgets/base",
            "_model_module_version": "1.2.0",
            "_model_name": "LayoutModel",
            "_view_count": null,
            "_view_module": "@jupyter-widgets/base",
            "_view_module_version": "1.2.0",
            "_view_name": "LayoutView",
            "align_content": null,
            "align_items": null,
            "align_self": null,
            "border": null,
            "bottom": null,
            "display": null,
            "flex": null,
            "flex_flow": null,
            "grid_area": null,
            "grid_auto_columns": null,
            "grid_auto_flow": null,
            "grid_auto_rows": null,
            "grid_column": null,
            "grid_gap": null,
            "grid_row": null,
            "grid_template_areas": null,
            "grid_template_columns": null,
            "grid_template_rows": null,
            "height": null,
            "justify_content": null,
            "justify_items": null,
            "left": null,
            "margin": null,
            "max_height": null,
            "max_width": null,
            "min_height": null,
            "min_width": null,
            "object_fit": null,
            "object_position": null,
            "order": null,
            "overflow": null,
            "overflow_x": null,
            "overflow_y": null,
            "padding": null,
            "right": null,
            "top": null,
            "visibility": null,
            "width": null
          }
        },
        "0a63eeb388e549ca80fea40e89e50194": {
          "model_module": "@jupyter-widgets/controls",
          "model_name": "ProgressStyleModel",
          "state": {
            "_model_module": "@jupyter-widgets/controls",
            "_model_module_version": "1.5.0",
            "_model_name": "ProgressStyleModel",
            "_view_count": null,
            "_view_module": "@jupyter-widgets/base",
            "_view_module_version": "1.2.0",
            "_view_name": "StyleView",
            "bar_color": null,
            "description_width": "initial"
          }
        },
        "0518a5351b7b4a95a2a0bd4cd742e85a": {
          "model_module": "@jupyter-widgets/base",
          "model_name": "LayoutModel",
          "state": {
            "_model_module": "@jupyter-widgets/base",
            "_model_module_version": "1.2.0",
            "_model_name": "LayoutModel",
            "_view_count": null,
            "_view_module": "@jupyter-widgets/base",
            "_view_module_version": "1.2.0",
            "_view_name": "LayoutView",
            "align_content": null,
            "align_items": null,
            "align_self": null,
            "border": null,
            "bottom": null,
            "display": null,
            "flex": null,
            "flex_flow": null,
            "grid_area": null,
            "grid_auto_columns": null,
            "grid_auto_flow": null,
            "grid_auto_rows": null,
            "grid_column": null,
            "grid_gap": null,
            "grid_row": null,
            "grid_template_areas": null,
            "grid_template_columns": null,
            "grid_template_rows": null,
            "height": null,
            "justify_content": null,
            "justify_items": null,
            "left": null,
            "margin": null,
            "max_height": null,
            "max_width": null,
            "min_height": null,
            "min_width": null,
            "object_fit": null,
            "object_position": null,
            "order": null,
            "overflow": null,
            "overflow_x": null,
            "overflow_y": null,
            "padding": null,
            "right": null,
            "top": null,
            "visibility": null,
            "width": null
          }
        },
        "979193c481354de28d09629b71addd8d": {
          "model_module": "@jupyter-widgets/controls",
          "model_name": "DescriptionStyleModel",
          "state": {
            "_model_module": "@jupyter-widgets/controls",
            "_model_module_version": "1.5.0",
            "_model_name": "DescriptionStyleModel",
            "_view_count": null,
            "_view_module": "@jupyter-widgets/base",
            "_view_module_version": "1.2.0",
            "_view_name": "StyleView",
            "description_width": ""
          }
        }
      }
    }
  },
  "cells": [
    {
      "cell_type": "markdown",
      "metadata": {
        "id": "FesgtJCyTqY1"
      },
      "source": [
        "Nama : Raafi Dimas\n",
        "Dicoding"
      ]
    },
    {
      "cell_type": "code",
      "metadata": {
        "colab": {
          "background_save": true,
          "base_uri": "https://localhost:8080/"
        },
        "id": "cU4s4NURw1B4",
        "outputId": "0c92f96c-97a9-4a68-e8b5-b5a706efa270"
      },
      "source": [
        "#Import library\n",
        "import numpy as np \n",
        "import pandas as pd\n",
        "import seaborn as sns\n",
        "import matplotlib.pyplot as plt\n",
        "import tensorflow as tf\n",
        "import math\n",
        "from keras.layers import Dense, LSTM\n",
        "\n",
        "import warnings\n",
        "warnings.filterwarnings('ignore')\n",
        "\n",
        "from google.colab import drive\n",
        "drive.mount('/content/drive/', force_remount=True)\n"
      ],
      "execution_count": null,
      "outputs": [
        {
          "output_type": "stream",
          "text": [
            "Mounted at /content/drive/\n"
          ],
          "name": "stdout"
        }
      ]
    },
    {
      "cell_type": "code",
      "metadata": {
        "colab": {
          "background_save": true,
          "base_uri": "https://localhost:8080/",
          "height": 418
        },
        "id": "AF7mPe2SzKFB",
        "outputId": "bad99785-3ad8-4eab-c3f4-779c4a098394"
      },
      "source": [
        "data = pd.read_csv('/content/drive/MyDrive/Datacolab/london_merged.csv', parse_dates=['timestamp'], index_col='timestamp')\n",
        "data.head()"
      ],
      "execution_count": null,
      "outputs": [
        {
          "output_type": "execute_result",
          "data": {
            "text/html": [
              "<div>\n",
              "<style scoped>\n",
              "    .dataframe tbody tr th:only-of-type {\n",
              "        vertical-align: middle;\n",
              "    }\n",
              "\n",
              "    .dataframe tbody tr th {\n",
              "        vertical-align: top;\n",
              "    }\n",
              "\n",
              "    .dataframe thead th {\n",
              "        text-align: right;\n",
              "    }\n",
              "</style>\n",
              "<table border=\"1\" class=\"dataframe\">\n",
              "  <thead>\n",
              "    <tr style=\"text-align: right;\">\n",
              "      <th></th>\n",
              "      <th>cnt</th>\n",
              "      <th>t1</th>\n",
              "      <th>t2</th>\n",
              "      <th>hum</th>\n",
              "      <th>wind_speed</th>\n",
              "      <th>weather_code</th>\n",
              "      <th>is_holiday</th>\n",
              "      <th>is_weekend</th>\n",
              "      <th>season</th>\n",
              "    </tr>\n",
              "    <tr>\n",
              "      <th>timestamp</th>\n",
              "      <th></th>\n",
              "      <th></th>\n",
              "      <th></th>\n",
              "      <th></th>\n",
              "      <th></th>\n",
              "      <th></th>\n",
              "      <th></th>\n",
              "      <th></th>\n",
              "      <th></th>\n",
              "    </tr>\n",
              "  </thead>\n",
              "  <tbody>\n",
              "    <tr>\n",
              "      <th>2015-01-04 00:00:00</th>\n",
              "      <td>182</td>\n",
              "      <td>3.0</td>\n",
              "      <td>2.0</td>\n",
              "      <td>93.0</td>\n",
              "      <td>6.0</td>\n",
              "      <td>3.0</td>\n",
              "      <td>0.0</td>\n",
              "      <td>1.0</td>\n",
              "      <td>3.0</td>\n",
              "    </tr>\n",
              "    <tr>\n",
              "      <th>2015-01-04 01:00:00</th>\n",
              "      <td>138</td>\n",
              "      <td>3.0</td>\n",
              "      <td>2.5</td>\n",
              "      <td>93.0</td>\n",
              "      <td>5.0</td>\n",
              "      <td>1.0</td>\n",
              "      <td>0.0</td>\n",
              "      <td>1.0</td>\n",
              "      <td>3.0</td>\n",
              "    </tr>\n",
              "    <tr>\n",
              "      <th>2015-01-04 02:00:00</th>\n",
              "      <td>134</td>\n",
              "      <td>2.5</td>\n",
              "      <td>2.5</td>\n",
              "      <td>96.5</td>\n",
              "      <td>0.0</td>\n",
              "      <td>1.0</td>\n",
              "      <td>0.0</td>\n",
              "      <td>1.0</td>\n",
              "      <td>3.0</td>\n",
              "    </tr>\n",
              "    <tr>\n",
              "      <th>2015-01-04 03:00:00</th>\n",
              "      <td>72</td>\n",
              "      <td>2.0</td>\n",
              "      <td>2.0</td>\n",
              "      <td>100.0</td>\n",
              "      <td>0.0</td>\n",
              "      <td>1.0</td>\n",
              "      <td>0.0</td>\n",
              "      <td>1.0</td>\n",
              "      <td>3.0</td>\n",
              "    </tr>\n",
              "    <tr>\n",
              "      <th>2015-01-04 04:00:00</th>\n",
              "      <td>47</td>\n",
              "      <td>2.0</td>\n",
              "      <td>0.0</td>\n",
              "      <td>93.0</td>\n",
              "      <td>6.5</td>\n",
              "      <td>1.0</td>\n",
              "      <td>0.0</td>\n",
              "      <td>1.0</td>\n",
              "      <td>3.0</td>\n",
              "    </tr>\n",
              "  </tbody>\n",
              "</table>\n",
              "</div>"
            ],
            "text/plain": [
              "                     cnt   t1   t2  ...  is_holiday  is_weekend  season\n",
              "timestamp                           ...                                \n",
              "2015-01-04 00:00:00  182  3.0  2.0  ...         0.0         1.0     3.0\n",
              "2015-01-04 01:00:00  138  3.0  2.5  ...         0.0         1.0     3.0\n",
              "2015-01-04 02:00:00  134  2.5  2.5  ...         0.0         1.0     3.0\n",
              "2015-01-04 03:00:00   72  2.0  2.0  ...         0.0         1.0     3.0\n",
              "2015-01-04 04:00:00   47  2.0  0.0  ...         0.0         1.0     3.0\n",
              "\n",
              "[5 rows x 9 columns]"
            ]
          },
          "metadata": {
            "tags": []
          },
          "execution_count": 0
        }
      ]
    },
    {
      "cell_type": "code",
      "metadata": {
        "colab": {
          "background_save": true,
          "base_uri": "https://localhost:8080/"
        },
        "id": "p4dNZHSc0veo",
        "outputId": "1ddea289-9781-4ce3-e34f-c0e2e66c29b9"
      },
      "source": [
        "data.info()"
      ],
      "execution_count": null,
      "outputs": [
        {
          "output_type": "stream",
          "text": [
            "<class 'pandas.core.frame.DataFrame'>\n",
            "DatetimeIndex: 17414 entries, 2015-01-04 00:00:00 to 2017-01-03 23:00:00\n",
            "Data columns (total 9 columns):\n",
            " #   Column        Non-Null Count  Dtype  \n",
            "---  ------        --------------  -----  \n",
            " 0   cnt           17414 non-null  int64  \n",
            " 1   t1            17414 non-null  float64\n",
            " 2   t2            17414 non-null  float64\n",
            " 3   hum           17414 non-null  float64\n",
            " 4   wind_speed    17414 non-null  float64\n",
            " 5   weather_code  17414 non-null  float64\n",
            " 6   is_holiday    17414 non-null  float64\n",
            " 7   is_weekend    17414 non-null  float64\n",
            " 8   season        17414 non-null  float64\n",
            "dtypes: float64(8), int64(1)\n",
            "memory usage: 1.3 MB\n"
          ],
          "name": "stdout"
        }
      ]
    },
    {
      "cell_type": "code",
      "metadata": {
        "colab": {
          "background_save": true,
          "base_uri": "https://localhost:8080/"
        },
        "id": "qpIMN8-ytuNg",
        "outputId": "1bddea7a-4cd1-4493-84b1-6970edd4f393"
      },
      "source": [
        "data.isnull().sum()"
      ],
      "execution_count": null,
      "outputs": [
        {
          "output_type": "execute_result",
          "data": {
            "text/plain": [
              "cnt             0\n",
              "t1              0\n",
              "t2              0\n",
              "hum             0\n",
              "wind_speed      0\n",
              "weather_code    0\n",
              "is_holiday      0\n",
              "is_weekend      0\n",
              "season          0\n",
              "dtype: int64"
            ]
          },
          "metadata": {
            "tags": []
          },
          "execution_count": 0
        }
      ]
    },
    {
      "cell_type": "code",
      "metadata": {
        "colab": {
          "background_save": true
        },
        "id": "eWiQdb3Vtz7q"
      },
      "source": [
        "data['hour'] = data.index.hour\n",
        "data['day_of_week'] = data.index.dayofweek\n",
        "data['day_of_month'] = data.index.day\n",
        "data['month'] = data.index.month"
      ],
      "execution_count": null,
      "outputs": []
    },
    {
      "cell_type": "code",
      "metadata": {
        "colab": {
          "background_save": true,
          "base_uri": "https://localhost:8080/",
          "height": 798
        },
        "id": "_vuFaAkbt7ti",
        "outputId": "1b563e24-d0a5-4fbd-ae74-5f5af9a8debe"
      },
      "source": [
        "data"
      ],
      "execution_count": null,
      "outputs": [
        {
          "output_type": "execute_result",
          "data": {
            "text/html": [
              "<div>\n",
              "<style scoped>\n",
              "    .dataframe tbody tr th:only-of-type {\n",
              "        vertical-align: middle;\n",
              "    }\n",
              "\n",
              "    .dataframe tbody tr th {\n",
              "        vertical-align: top;\n",
              "    }\n",
              "\n",
              "    .dataframe thead th {\n",
              "        text-align: right;\n",
              "    }\n",
              "</style>\n",
              "<table border=\"1\" class=\"dataframe\">\n",
              "  <thead>\n",
              "    <tr style=\"text-align: right;\">\n",
              "      <th></th>\n",
              "      <th>cnt</th>\n",
              "      <th>t1</th>\n",
              "      <th>t2</th>\n",
              "      <th>hum</th>\n",
              "      <th>wind_speed</th>\n",
              "      <th>weather_code</th>\n",
              "      <th>is_holiday</th>\n",
              "      <th>is_weekend</th>\n",
              "      <th>season</th>\n",
              "      <th>hour</th>\n",
              "      <th>day_of_week</th>\n",
              "      <th>day_of_month</th>\n",
              "      <th>month</th>\n",
              "    </tr>\n",
              "    <tr>\n",
              "      <th>timestamp</th>\n",
              "      <th></th>\n",
              "      <th></th>\n",
              "      <th></th>\n",
              "      <th></th>\n",
              "      <th></th>\n",
              "      <th></th>\n",
              "      <th></th>\n",
              "      <th></th>\n",
              "      <th></th>\n",
              "      <th></th>\n",
              "      <th></th>\n",
              "      <th></th>\n",
              "      <th></th>\n",
              "    </tr>\n",
              "  </thead>\n",
              "  <tbody>\n",
              "    <tr>\n",
              "      <th>2015-01-04 00:00:00</th>\n",
              "      <td>182</td>\n",
              "      <td>3.0</td>\n",
              "      <td>2.0</td>\n",
              "      <td>93.0</td>\n",
              "      <td>6.0</td>\n",
              "      <td>3.0</td>\n",
              "      <td>0.0</td>\n",
              "      <td>1.0</td>\n",
              "      <td>3.0</td>\n",
              "      <td>0</td>\n",
              "      <td>6</td>\n",
              "      <td>4</td>\n",
              "      <td>1</td>\n",
              "    </tr>\n",
              "    <tr>\n",
              "      <th>2015-01-04 01:00:00</th>\n",
              "      <td>138</td>\n",
              "      <td>3.0</td>\n",
              "      <td>2.5</td>\n",
              "      <td>93.0</td>\n",
              "      <td>5.0</td>\n",
              "      <td>1.0</td>\n",
              "      <td>0.0</td>\n",
              "      <td>1.0</td>\n",
              "      <td>3.0</td>\n",
              "      <td>1</td>\n",
              "      <td>6</td>\n",
              "      <td>4</td>\n",
              "      <td>1</td>\n",
              "    </tr>\n",
              "    <tr>\n",
              "      <th>2015-01-04 02:00:00</th>\n",
              "      <td>134</td>\n",
              "      <td>2.5</td>\n",
              "      <td>2.5</td>\n",
              "      <td>96.5</td>\n",
              "      <td>0.0</td>\n",
              "      <td>1.0</td>\n",
              "      <td>0.0</td>\n",
              "      <td>1.0</td>\n",
              "      <td>3.0</td>\n",
              "      <td>2</td>\n",
              "      <td>6</td>\n",
              "      <td>4</td>\n",
              "      <td>1</td>\n",
              "    </tr>\n",
              "    <tr>\n",
              "      <th>2015-01-04 03:00:00</th>\n",
              "      <td>72</td>\n",
              "      <td>2.0</td>\n",
              "      <td>2.0</td>\n",
              "      <td>100.0</td>\n",
              "      <td>0.0</td>\n",
              "      <td>1.0</td>\n",
              "      <td>0.0</td>\n",
              "      <td>1.0</td>\n",
              "      <td>3.0</td>\n",
              "      <td>3</td>\n",
              "      <td>6</td>\n",
              "      <td>4</td>\n",
              "      <td>1</td>\n",
              "    </tr>\n",
              "    <tr>\n",
              "      <th>2015-01-04 04:00:00</th>\n",
              "      <td>47</td>\n",
              "      <td>2.0</td>\n",
              "      <td>0.0</td>\n",
              "      <td>93.0</td>\n",
              "      <td>6.5</td>\n",
              "      <td>1.0</td>\n",
              "      <td>0.0</td>\n",
              "      <td>1.0</td>\n",
              "      <td>3.0</td>\n",
              "      <td>4</td>\n",
              "      <td>6</td>\n",
              "      <td>4</td>\n",
              "      <td>1</td>\n",
              "    </tr>\n",
              "    <tr>\n",
              "      <th>...</th>\n",
              "      <td>...</td>\n",
              "      <td>...</td>\n",
              "      <td>...</td>\n",
              "      <td>...</td>\n",
              "      <td>...</td>\n",
              "      <td>...</td>\n",
              "      <td>...</td>\n",
              "      <td>...</td>\n",
              "      <td>...</td>\n",
              "      <td>...</td>\n",
              "      <td>...</td>\n",
              "      <td>...</td>\n",
              "      <td>...</td>\n",
              "    </tr>\n",
              "    <tr>\n",
              "      <th>2017-01-03 19:00:00</th>\n",
              "      <td>1042</td>\n",
              "      <td>5.0</td>\n",
              "      <td>1.0</td>\n",
              "      <td>81.0</td>\n",
              "      <td>19.0</td>\n",
              "      <td>3.0</td>\n",
              "      <td>0.0</td>\n",
              "      <td>0.0</td>\n",
              "      <td>3.0</td>\n",
              "      <td>19</td>\n",
              "      <td>1</td>\n",
              "      <td>3</td>\n",
              "      <td>1</td>\n",
              "    </tr>\n",
              "    <tr>\n",
              "      <th>2017-01-03 20:00:00</th>\n",
              "      <td>541</td>\n",
              "      <td>5.0</td>\n",
              "      <td>1.0</td>\n",
              "      <td>81.0</td>\n",
              "      <td>21.0</td>\n",
              "      <td>4.0</td>\n",
              "      <td>0.0</td>\n",
              "      <td>0.0</td>\n",
              "      <td>3.0</td>\n",
              "      <td>20</td>\n",
              "      <td>1</td>\n",
              "      <td>3</td>\n",
              "      <td>1</td>\n",
              "    </tr>\n",
              "    <tr>\n",
              "      <th>2017-01-03 21:00:00</th>\n",
              "      <td>337</td>\n",
              "      <td>5.5</td>\n",
              "      <td>1.5</td>\n",
              "      <td>78.5</td>\n",
              "      <td>24.0</td>\n",
              "      <td>4.0</td>\n",
              "      <td>0.0</td>\n",
              "      <td>0.0</td>\n",
              "      <td>3.0</td>\n",
              "      <td>21</td>\n",
              "      <td>1</td>\n",
              "      <td>3</td>\n",
              "      <td>1</td>\n",
              "    </tr>\n",
              "    <tr>\n",
              "      <th>2017-01-03 22:00:00</th>\n",
              "      <td>224</td>\n",
              "      <td>5.5</td>\n",
              "      <td>1.5</td>\n",
              "      <td>76.0</td>\n",
              "      <td>23.0</td>\n",
              "      <td>4.0</td>\n",
              "      <td>0.0</td>\n",
              "      <td>0.0</td>\n",
              "      <td>3.0</td>\n",
              "      <td>22</td>\n",
              "      <td>1</td>\n",
              "      <td>3</td>\n",
              "      <td>1</td>\n",
              "    </tr>\n",
              "    <tr>\n",
              "      <th>2017-01-03 23:00:00</th>\n",
              "      <td>139</td>\n",
              "      <td>5.0</td>\n",
              "      <td>1.0</td>\n",
              "      <td>76.0</td>\n",
              "      <td>22.0</td>\n",
              "      <td>2.0</td>\n",
              "      <td>0.0</td>\n",
              "      <td>0.0</td>\n",
              "      <td>3.0</td>\n",
              "      <td>23</td>\n",
              "      <td>1</td>\n",
              "      <td>3</td>\n",
              "      <td>1</td>\n",
              "    </tr>\n",
              "  </tbody>\n",
              "</table>\n",
              "<p>17414 rows × 13 columns</p>\n",
              "</div>"
            ],
            "text/plain": [
              "                      cnt   t1   t2  ...  day_of_week  day_of_month  month\n",
              "timestamp                            ...                                  \n",
              "2015-01-04 00:00:00   182  3.0  2.0  ...            6             4      1\n",
              "2015-01-04 01:00:00   138  3.0  2.5  ...            6             4      1\n",
              "2015-01-04 02:00:00   134  2.5  2.5  ...            6             4      1\n",
              "2015-01-04 03:00:00    72  2.0  2.0  ...            6             4      1\n",
              "2015-01-04 04:00:00    47  2.0  0.0  ...            6             4      1\n",
              "...                   ...  ...  ...  ...          ...           ...    ...\n",
              "2017-01-03 19:00:00  1042  5.0  1.0  ...            1             3      1\n",
              "2017-01-03 20:00:00   541  5.0  1.0  ...            1             3      1\n",
              "2017-01-03 21:00:00   337  5.5  1.5  ...            1             3      1\n",
              "2017-01-03 22:00:00   224  5.5  1.5  ...            1             3      1\n",
              "2017-01-03 23:00:00   139  5.0  1.0  ...            1             3      1\n",
              "\n",
              "[17414 rows x 13 columns]"
            ]
          },
          "metadata": {
            "tags": []
          },
          "execution_count": 0
        }
      ]
    },
    {
      "cell_type": "markdown",
      "metadata": {
        "id": "FIiEKSmUuA9f"
      },
      "source": [
        "# EDA"
      ]
    },
    {
      "cell_type": "code",
      "metadata": {
        "colab": {
          "background_save": true,
          "base_uri": "https://localhost:8080/",
          "height": 263
        },
        "id": "Bc5R1JfmuGht",
        "outputId": "9e38a81f-0b63-4a51-ecbb-21f768859210"
      },
      "source": [
        "import matplotlib.pyplot\n",
        "\n",
        "data_by_month = data.resample('M').sum()\n",
        "\n",
        "time = data_by_month.index.values\n",
        "test = data_by_month['cnt'].values\n",
        "\n",
        "plt.figure(figsize=(15,5))\n",
        "plt.plot(time, test)"
      ],
      "execution_count": null,
      "outputs": [
        {
          "output_type": "execute_result",
          "data": {
            "text/plain": [
              "[<matplotlib.lines.Line2D at 0x7fdbeb284d10>]"
            ]
          },
          "metadata": {
            "tags": []
          },
          "execution_count": 0
        },
        {
          "output_type": "display_data",
          "data": {
            "image/png": "[encoded data removed]",
            "text/plain": [
              "<Figure size 1080x360 with 1 Axes>"
            ]
          },
          "metadata": {
            "tags": []
          }
        }
      ]
    },
    {
      "cell_type": "markdown",
      "metadata": {
        "id": "SXArV_W7uQXc"
      },
      "source": [
        "penjualan diawal tahun 2015 naik pada tahun 2016 tetapi turun pada tahun 2017."
      ]
    },
    {
      "cell_type": "code",
      "metadata": {
        "colab": {
          "base_uri": "https://localhost:8080/"
        },
        "id": "56ad4uvK6oHc",
        "outputId": "4a9c8612-1797-471e-8275-4f849573f753"
      },
      "source": [
        "from sklearn.model_selection import train_test_split\n",
        "import numpy as np\n",
        "\n",
        "train_size = int(len(data) * 0.8) # bobot 80%\n",
        "train, test = data.iloc[0:train_size], data.iloc[train_size:len(data)]\n",
        "\n",
        "print(train.shape, test.shape)"
      ],
      "execution_count": null,
      "outputs": [
        {
          "output_type": "stream",
          "text": [
            "(13931, 13) (3483, 13)\n"
          ],
          "name": "stdout"
        }
      ]
    },
    {
      "cell_type": "code",
      "metadata": {
        "id": "LSGTCpJY6v9J"
      },
      "source": [
        "from sklearn.preprocessing import RobustScaler\n",
        "\n",
        "transformer = RobustScaler()\n",
        "cnt_transformer = transformer.fit(train[['cnt']])\n",
        "\n",
        "train['cnt'] = cnt_transformer.transform(train[['cnt']])\n",
        "\n",
        "test['cnt'] = cnt_transformer.transform(test[['cnt']])"
      ],
      "execution_count": null,
      "outputs": []
    },
    {
      "cell_type": "code",
      "metadata": {
        "id": "uRcLbwvz6yH0"
      },
      "source": [
        "scale_col = ['t1', 't2', 'hum', 'wind_speed']\n",
        "scale_transformer = transformer.fit(train[scale_col].to_numpy())\n",
        "\n",
        "train.loc[:, scale_col] = scale_transformer.transform(\n",
        "    train[scale_col].to_numpy())\n",
        "\n",
        "test.loc[:, scale_col] = scale_transformer.transform(\n",
        "    test[scale_col].to_numpy())"
      ],
      "execution_count": null,
      "outputs": []
    },
    {
      "cell_type": "code",
      "metadata": {
        "colab": {
          "base_uri": "https://localhost:8080/",
          "height": 66,
          "referenced_widgets": [
            "e471e206d67a4efdbe0cf24fa2738b01",
            "282c9fe20c9b41c6af3576689b0bcad5",
            "19b69708e6564162ad95aac74529d2af",
            "85da26de5255498d935d8efbd700812a",
            "24a88d1bf0994a9e8b76ab3b38986c72",
            "b044362013ce47ceb2dfa5831baa2812",
            "458fe4f5eec64e8aa132eff4dfd5d096",
            "0a40421031a449639bba8bbd6c9a165b"
          ]
        },
        "id": "yV41InXq62aV",
        "outputId": "1933490b-80c4-405a-ae40-88ce28af3061"
      },
      "source": [
        "from tqdm import tqdm_notebook as tqdm\n",
        "\n",
        "#Split the data into x_train and y_train data sets\n",
        "x_train = []\n",
        "y_train = []\n",
        "time_steps = 24\n",
        "for i in tqdm(range(len(train) - time_steps)):\n",
        "    x_train.append(train.drop(columns='cnt').iloc[i:i + time_steps].to_numpy())\n",
        "    y_train.append(train.loc[:,'cnt'].iloc[i + time_steps])\n",
        "\n",
        "#Convert x_train and y_train to numpy arrays\n",
        "x_train = np.array(x_train)\n",
        "y_train = np.array(y_train)"
      ],
      "execution_count": null,
      "outputs": [
        {
          "output_type": "display_data",
          "data": {
            "application/vnd.jupyter.widget-view+json": {
              "model_id": "e471e206d67a4efdbe0cf24fa2738b01",
              "version_major": 2,
              "version_minor": 0
            },
            "text/plain": [
              "HBox(children=(FloatProgress(value=0.0, max=13907.0), HTML(value='')))"
            ]
          },
          "metadata": {
            "tags": []
          }
        },
        {
          "output_type": "stream",
          "text": [
            "\n"
          ],
          "name": "stdout"
        }
      ]
    },
    {
      "cell_type": "code",
      "metadata": {
        "colab": {
          "base_uri": "https://localhost:8080/",
          "height": 66,
          "referenced_widgets": [
            "5354f941447d4c3a910f152d81d8d311",
            "61c9cd41116746c1b15a2b0acc2ea7cd",
            "3d13ffef27b84529bb350ae7a03fc65b",
            "96ee1da9fb0b46cc908eebea469ec875",
            "08932701a0b546f4b89ad9c831f20dca",
            "0a63eeb388e549ca80fea40e89e50194",
            "0518a5351b7b4a95a2a0bd4cd742e85a",
            "979193c481354de28d09629b71addd8d"
          ]
        },
        "id": "jnCo7Rbe7uQh",
        "outputId": "18c258ea-dc95-4829-87e8-910d67703413"
      },
      "source": [
        "#Create the x_test and y_test data sets\n",
        "x_test = []\n",
        "y_test = data.loc[:,'cnt'].iloc[train_size:len(data)]\n",
        "\n",
        "for i in tqdm(range(len(test) - time_steps)):\n",
        "    x_test.append(test.drop(columns='cnt').iloc[i:i + time_steps].to_numpy())\n",
        "    # y_test.append(test.loc[:,'cnt'].iloc[i + time_steps])\n",
        "\n",
        "#Convert x_test and y_test to numpy arrays\n",
        "x_test = np.array(x_test)\n",
        "y_test = np.array(y_test)"
      ],
      "execution_count": null,
      "outputs": [
        {
          "output_type": "display_data",
          "data": {
            "application/vnd.jupyter.widget-view+json": {
              "model_id": "5354f941447d4c3a910f152d81d8d311",
              "version_major": 2,
              "version_minor": 0
            },
            "text/plain": [
              "HBox(children=(FloatProgress(value=0.0, max=3459.0), HTML(value='')))"
            ]
          },
          "metadata": {
            "tags": []
          }
        },
        {
          "output_type": "stream",
          "text": [
            "\n"
          ],
          "name": "stdout"
        }
      ]
    },
    {
      "cell_type": "code",
      "metadata": {
        "colab": {
          "base_uri": "https://localhost:8080/"
        },
        "id": "gL47qPZx7BAh",
        "outputId": "c6cfbd85-a6ce-4bff-8fa3-1129fdd1c8c5"
      },
      "source": [
        "print('Train size:')\n",
        "print(x_train.shape, y_train.shape)\n",
        "print('Test size:')\n",
        "print(x_test.shape, y_test.shape)"
      ],
      "execution_count": null,
      "outputs": [
        {
          "output_type": "stream",
          "text": [
            "Train size:\n",
            "(13907, 24, 12) (13907,)\n",
            "Test size:\n",
            "(3459, 24, 12) (3483,)\n"
          ],
          "name": "stdout"
        }
      ]
    },
    {
      "cell_type": "code",
      "metadata": {
        "id": "bRyVkbJw6Nsx"
      },
      "source": [
        "class my_Callback(tf.keras.callbacks.Callback):\n",
        "    def on_epoch_end(self, epoch, logs={}):\n",
        "        if(logs.get('mae') < 0.1):\n",
        "            print(\"MAE has reached below 10%\")\n",
        "\n",
        "    def on_train_end(self, epoch, logs={}):\n",
        "        print('Done')\n",
        "\n",
        "callbacks = my_Callback()"
      ],
      "execution_count": null,
      "outputs": []
    },
    {
      "cell_type": "code",
      "metadata": {
        "id": "UdD8FyRgJ5T0"
      },
      "source": [
        "from keras.preprocessing import sequence\n",
        "from keras.models import Sequential\n",
        "from keras.layers import Dense, Dropout , LSTM , Bidirectional \n",
        "model = Sequential()\n",
        "model.add(Bidirectional(LSTM(50,input_shape=(x_train.shape[1],x_train.shape[2]))))\n",
        "model.add(Dropout(0.2))\n",
        "model.add(Dense(units=1))"
      ],
      "execution_count": 95,
      "outputs": []
    },
    {
      "cell_type": "code",
      "metadata": {
        "id": "scA1S4rpJg_Z"
      },
      "source": [
        "optimizer = tf.keras.optimizers.Adam(learning_rate=1.000e-04)\n",
        "model.compile(loss = tf.keras.losses.Huber(),\n",
        "                optimizer = optimizer,\n",
        "                 metrics = [\"mae\"])"
      ],
      "execution_count": 97,
      "outputs": []
    },
    {
      "cell_type": "code",
      "metadata": {
        "colab": {
          "base_uri": "https://localhost:8080/"
        },
        "id": "Ky6TgVShNP2w",
        "outputId": "6facd396-079c-4ca0-eb6c-dcf62262774e"
      },
      "source": [
        "model.summary()"
      ],
      "execution_count": 100,
      "outputs": [
        {
          "output_type": "stream",
          "text": [
            "Model: \"sequential\"\n",
            "_________________________________________________________________\n",
            "Layer (type)                 Output Shape              Param #   \n",
            "=================================================================\n",
            "bidirectional (Bidirectional (None, 100)               25200     \n",
            "_________________________________________________________________\n",
            "dropout (Dropout)            (None, 100)               0         \n",
            "_________________________________________________________________\n",
            "dense (Dense)                (None, 1)                 101       \n",
            "=================================================================\n",
            "Total params: 25,301\n",
            "Trainable params: 25,301\n",
            "Non-trainable params: 0\n",
            "_________________________________________________________________\n"
          ],
          "name": "stdout"
        }
      ]
    },
    {
      "cell_type": "code",
      "metadata": {
        "colab": {
          "base_uri": "https://localhost:8080/"
        },
        "id": "mBS6yQ7yKGFk",
        "outputId": "ddec88ec-a9ec-41c1-fa90-4049a2a4e980"
      },
      "source": [
        "history = model.fit(x_train, y_train, epochs=150, batch_size=24, validation_split=0.2, callbacks = callbacks, shuffle=True)"
      ],
      "execution_count": 101,
      "outputs": [
        {
          "output_type": "stream",
          "text": [
            "Epoch 1/150\n",
            "464/464 [==============================] - 10s 21ms/step - loss: 0.0206 - mae: 0.1360 - val_loss: 0.0257 - val_mae: 0.1476\n",
            "Epoch 2/150\n",
            "464/464 [==============================] - 9s 20ms/step - loss: 0.0209 - mae: 0.1361 - val_loss: 0.0253 - val_mae: 0.1455\n",
            "Epoch 3/150\n",
            "464/464 [==============================] - 9s 20ms/step - loss: 0.0204 - mae: 0.1338 - val_loss: 0.0247 - val_mae: 0.1433\n",
            "Epoch 4/150\n",
            "464/464 [==============================] - 9s 20ms/step - loss: 0.0204 - mae: 0.1346 - val_loss: 0.0285 - val_mae: 0.1560\n",
            "Epoch 5/150\n",
            "464/464 [==============================] - 9s 20ms/step - loss: 0.0198 - mae: 0.1328 - val_loss: 0.0254 - val_mae: 0.1453\n",
            "Epoch 6/150\n",
            "464/464 [==============================] - 9s 19ms/step - loss: 0.0200 - mae: 0.1326 - val_loss: 0.0252 - val_mae: 0.1447\n",
            "Epoch 7/150\n",
            "464/464 [==============================] - 9s 19ms/step - loss: 0.0192 - mae: 0.1296 - val_loss: 0.0246 - val_mae: 0.1421\n",
            "Epoch 8/150\n",
            "464/464 [==============================] - 9s 20ms/step - loss: 0.0191 - mae: 0.1293 - val_loss: 0.0258 - val_mae: 0.1470\n",
            "Epoch 9/150\n",
            "464/464 [==============================] - 9s 19ms/step - loss: 0.0195 - mae: 0.1296 - val_loss: 0.0263 - val_mae: 0.1485\n",
            "Epoch 10/150\n",
            "464/464 [==============================] - 9s 19ms/step - loss: 0.0189 - mae: 0.1276 - val_loss: 0.0258 - val_mae: 0.1483\n",
            "Epoch 11/150\n",
            "464/464 [==============================] - 9s 20ms/step - loss: 0.0188 - mae: 0.1274 - val_loss: 0.0271 - val_mae: 0.1515\n",
            "Epoch 12/150\n",
            "464/464 [==============================] - 9s 20ms/step - loss: 0.0190 - mae: 0.1279 - val_loss: 0.0237 - val_mae: 0.1402\n",
            "Epoch 13/150\n",
            "464/464 [==============================] - 9s 19ms/step - loss: 0.0183 - mae: 0.1257 - val_loss: 0.0232 - val_mae: 0.1374\n",
            "Epoch 14/150\n",
            "464/464 [==============================] - 9s 20ms/step - loss: 0.0182 - mae: 0.1257 - val_loss: 0.0242 - val_mae: 0.1420\n",
            "Epoch 15/150\n",
            "464/464 [==============================] - 9s 19ms/step - loss: 0.0184 - mae: 0.1245 - val_loss: 0.0253 - val_mae: 0.1470\n",
            "Epoch 16/150\n",
            "464/464 [==============================] - 9s 19ms/step - loss: 0.0182 - mae: 0.1244 - val_loss: 0.0234 - val_mae: 0.1387\n",
            "Epoch 17/150\n",
            "464/464 [==============================] - 9s 20ms/step - loss: 0.0175 - mae: 0.1224 - val_loss: 0.0254 - val_mae: 0.1463\n",
            "Epoch 18/150\n",
            "464/464 [==============================] - 9s 20ms/step - loss: 0.0179 - mae: 0.1240 - val_loss: 0.0251 - val_mae: 0.1445\n",
            "Epoch 19/150\n",
            "464/464 [==============================] - 9s 20ms/step - loss: 0.0181 - mae: 0.1240 - val_loss: 0.0241 - val_mae: 0.1416\n",
            "Epoch 20/150\n",
            "464/464 [==============================] - 9s 20ms/step - loss: 0.0175 - mae: 0.1221 - val_loss: 0.0245 - val_mae: 0.1424\n",
            "Epoch 21/150\n",
            "464/464 [==============================] - 9s 20ms/step - loss: 0.0174 - mae: 0.1218 - val_loss: 0.0263 - val_mae: 0.1484\n",
            "Epoch 22/150\n",
            "464/464 [==============================] - 9s 20ms/step - loss: 0.0174 - mae: 0.1214 - val_loss: 0.0249 - val_mae: 0.1428\n",
            "Epoch 23/150\n",
            "464/464 [==============================] - 9s 20ms/step - loss: 0.0172 - mae: 0.1210 - val_loss: 0.0254 - val_mae: 0.1450\n",
            "Epoch 24/150\n",
            "464/464 [==============================] - 9s 20ms/step - loss: 0.0169 - mae: 0.1196 - val_loss: 0.0229 - val_mae: 0.1357\n",
            "Epoch 25/150\n",
            "464/464 [==============================] - 9s 20ms/step - loss: 0.0173 - mae: 0.1203 - val_loss: 0.0231 - val_mae: 0.1375\n",
            "Epoch 26/150\n",
            "464/464 [==============================] - 9s 20ms/step - loss: 0.0168 - mae: 0.1195 - val_loss: 0.0249 - val_mae: 0.1427\n",
            "Epoch 27/150\n",
            "464/464 [==============================] - 9s 20ms/step - loss: 0.0164 - mae: 0.1189 - val_loss: 0.0249 - val_mae: 0.1432\n",
            "Epoch 28/150\n",
            "464/464 [==============================] - 10s 21ms/step - loss: 0.0165 - mae: 0.1187 - val_loss: 0.0267 - val_mae: 0.1496\n",
            "Epoch 29/150\n",
            "464/464 [==============================] - 9s 20ms/step - loss: 0.0165 - mae: 0.1181 - val_loss: 0.0227 - val_mae: 0.1345\n",
            "Epoch 30/150\n",
            "464/464 [==============================] - 9s 20ms/step - loss: 0.0162 - mae: 0.1164 - val_loss: 0.0256 - val_mae: 0.1452\n",
            "Epoch 31/150\n",
            "464/464 [==============================] - 10s 20ms/step - loss: 0.0165 - mae: 0.1194 - val_loss: 0.0263 - val_mae: 0.1478\n",
            "Epoch 32/150\n",
            "464/464 [==============================] - 9s 20ms/step - loss: 0.0162 - mae: 0.1163 - val_loss: 0.0251 - val_mae: 0.1441\n",
            "Epoch 33/150\n",
            "464/464 [==============================] - 9s 20ms/step - loss: 0.0156 - mae: 0.1148 - val_loss: 0.0247 - val_mae: 0.1426\n",
            "Epoch 34/150\n",
            "464/464 [==============================] - 10s 21ms/step - loss: 0.0164 - mae: 0.1173 - val_loss: 0.0259 - val_mae: 0.1456\n",
            "Epoch 35/150\n",
            "464/464 [==============================] - 10s 21ms/step - loss: 0.0160 - mae: 0.1161 - val_loss: 0.0244 - val_mae: 0.1392\n",
            "Epoch 36/150\n",
            "464/464 [==============================] - 9s 20ms/step - loss: 0.0161 - mae: 0.1167 - val_loss: 0.0228 - val_mae: 0.1346\n",
            "Epoch 37/150\n",
            "464/464 [==============================] - 10s 21ms/step - loss: 0.0152 - mae: 0.1145 - val_loss: 0.0247 - val_mae: 0.1420\n",
            "Epoch 38/150\n",
            "464/464 [==============================] - 9s 20ms/step - loss: 0.0153 - mae: 0.1141 - val_loss: 0.0253 - val_mae: 0.1444\n",
            "Epoch 39/150\n",
            "464/464 [==============================] - 9s 20ms/step - loss: 0.0152 - mae: 0.1139 - val_loss: 0.0262 - val_mae: 0.1464\n",
            "Epoch 40/150\n",
            "464/464 [==============================] - 10s 20ms/step - loss: 0.0151 - mae: 0.1134 - val_loss: 0.0261 - val_mae: 0.1459\n",
            "Epoch 41/150\n",
            "464/464 [==============================] - 10s 22ms/step - loss: 0.0150 - mae: 0.1134 - val_loss: 0.0265 - val_mae: 0.1491\n",
            "Epoch 42/150\n",
            "464/464 [==============================] - 10s 21ms/step - loss: 0.0149 - mae: 0.1130 - val_loss: 0.0262 - val_mae: 0.1467\n",
            "Epoch 43/150\n",
            "464/464 [==============================] - 10s 21ms/step - loss: 0.0147 - mae: 0.1121 - val_loss: 0.0273 - val_mae: 0.1498\n",
            "Epoch 44/150\n",
            "464/464 [==============================] - 9s 20ms/step - loss: 0.0151 - mae: 0.1129 - val_loss: 0.0258 - val_mae: 0.1433\n",
            "Epoch 45/150\n",
            "464/464 [==============================] - 9s 20ms/step - loss: 0.0146 - mae: 0.1118 - val_loss: 0.0271 - val_mae: 0.1478\n",
            "Epoch 46/150\n",
            "464/464 [==============================] - 9s 20ms/step - loss: 0.0145 - mae: 0.1113 - val_loss: 0.0285 - val_mae: 0.1535\n",
            "Epoch 47/150\n",
            "464/464 [==============================] - 9s 20ms/step - loss: 0.0141 - mae: 0.1105 - val_loss: 0.0277 - val_mae: 0.1484\n",
            "Epoch 48/150\n",
            "464/464 [==============================] - 9s 20ms/step - loss: 0.0138 - mae: 0.1097 - val_loss: 0.0288 - val_mae: 0.1534\n",
            "Epoch 49/150\n",
            "464/464 [==============================] - 9s 20ms/step - loss: 0.0139 - mae: 0.1106 - val_loss: 0.0276 - val_mae: 0.1494\n",
            "Epoch 50/150\n",
            "464/464 [==============================] - 9s 20ms/step - loss: 0.0138 - mae: 0.1096 - val_loss: 0.0277 - val_mae: 0.1493\n",
            "Epoch 51/150\n",
            "464/464 [==============================] - 9s 20ms/step - loss: 0.0141 - mae: 0.1097 - val_loss: 0.0274 - val_mae: 0.1478\n",
            "Epoch 52/150\n",
            "464/464 [==============================] - 9s 20ms/step - loss: 0.0134 - mae: 0.1080 - val_loss: 0.0294 - val_mae: 0.1535\n",
            "Epoch 53/150\n",
            "464/464 [==============================] - 9s 20ms/step - loss: 0.0136 - mae: 0.1092 - val_loss: 0.0274 - val_mae: 0.1452\n",
            "Epoch 54/150\n",
            "464/464 [==============================] - 10s 21ms/step - loss: 0.0133 - mae: 0.1079 - val_loss: 0.0289 - val_mae: 0.1479\n",
            "Epoch 55/150\n",
            "464/464 [==============================] - 9s 20ms/step - loss: 0.0136 - mae: 0.1085 - val_loss: 0.0287 - val_mae: 0.1494\n",
            "Epoch 56/150\n",
            "464/464 [==============================] - 9s 20ms/step - loss: 0.0132 - mae: 0.1079 - val_loss: 0.0274 - val_mae: 0.1481\n",
            "Epoch 57/150\n",
            "464/464 [==============================] - 9s 20ms/step - loss: 0.0134 - mae: 0.1076 - val_loss: 0.0296 - val_mae: 0.1503\n",
            "Epoch 58/150\n",
            "464/464 [==============================] - 9s 20ms/step - loss: 0.0133 - mae: 0.1083 - val_loss: 0.0311 - val_mae: 0.1576\n",
            "Epoch 59/150\n",
            "464/464 [==============================] - 9s 20ms/step - loss: 0.0130 - mae: 0.1070 - val_loss: 0.0296 - val_mae: 0.1533\n",
            "Epoch 60/150\n",
            "464/464 [==============================] - 9s 20ms/step - loss: 0.0132 - mae: 0.1071 - val_loss: 0.0297 - val_mae: 0.1486\n",
            "Epoch 61/150\n",
            "464/464 [==============================] - 9s 20ms/step - loss: 0.0130 - mae: 0.1078 - val_loss: 0.0306 - val_mae: 0.1555\n",
            "Epoch 62/150\n",
            "464/464 [==============================] - 9s 20ms/step - loss: 0.0126 - mae: 0.1060 - val_loss: 0.0302 - val_mae: 0.1563\n",
            "Epoch 63/150\n",
            "464/464 [==============================] - 10s 21ms/step - loss: 0.0128 - mae: 0.1064 - val_loss: 0.0315 - val_mae: 0.1563\n",
            "Epoch 64/150\n",
            "464/464 [==============================] - 9s 20ms/step - loss: 0.0133 - mae: 0.1074 - val_loss: 0.0301 - val_mae: 0.1546\n",
            "Epoch 65/150\n",
            "464/464 [==============================] - 9s 20ms/step - loss: 0.0128 - mae: 0.1061 - val_loss: 0.0298 - val_mae: 0.1498\n",
            "Epoch 66/150\n",
            "464/464 [==============================] - 9s 20ms/step - loss: 0.0126 - mae: 0.1059 - val_loss: 0.0276 - val_mae: 0.1478\n",
            "Epoch 67/150\n",
            "464/464 [==============================] - 10s 21ms/step - loss: 0.0126 - mae: 0.1057 - val_loss: 0.0285 - val_mae: 0.1485\n",
            "Epoch 68/150\n",
            "464/464 [==============================] - 10s 21ms/step - loss: 0.0127 - mae: 0.1060 - val_loss: 0.0305 - val_mae: 0.1520\n",
            "Epoch 69/150\n",
            "464/464 [==============================] - 10s 21ms/step - loss: 0.0124 - mae: 0.1045 - val_loss: 0.0311 - val_mae: 0.1543\n",
            "Epoch 70/150\n",
            "464/464 [==============================] - 9s 20ms/step - loss: 0.0126 - mae: 0.1054 - val_loss: 0.0276 - val_mae: 0.1461\n",
            "Epoch 71/150\n",
            "464/464 [==============================] - 9s 20ms/step - loss: 0.0121 - mae: 0.1039 - val_loss: 0.0283 - val_mae: 0.1499\n",
            "Epoch 72/150\n",
            "464/464 [==============================] - 9s 20ms/step - loss: 0.0124 - mae: 0.1056 - val_loss: 0.0315 - val_mae: 0.1511\n",
            "Epoch 73/150\n",
            "464/464 [==============================] - 9s 20ms/step - loss: 0.0122 - mae: 0.1048 - val_loss: 0.0307 - val_mae: 0.1487\n",
            "Epoch 74/150\n",
            "464/464 [==============================] - 9s 20ms/step - loss: 0.0122 - mae: 0.1043 - val_loss: 0.0301 - val_mae: 0.1549\n",
            "Epoch 75/150\n",
            "464/464 [==============================] - 10s 21ms/step - loss: 0.0120 - mae: 0.1030 - val_loss: 0.0319 - val_mae: 0.1565\n",
            "Epoch 76/150\n",
            "464/464 [==============================] - 9s 20ms/step - loss: 0.0125 - mae: 0.1048 - val_loss: 0.0315 - val_mae: 0.1553\n",
            "Epoch 77/150\n",
            "464/464 [==============================] - 9s 20ms/step - loss: 0.0119 - mae: 0.1030 - val_loss: 0.0284 - val_mae: 0.1435\n",
            "Epoch 78/150\n",
            "464/464 [==============================] - 9s 20ms/step - loss: 0.0118 - mae: 0.1031 - val_loss: 0.0289 - val_mae: 0.1511\n",
            "Epoch 79/150\n",
            "464/464 [==============================] - 10s 21ms/step - loss: 0.0121 - mae: 0.1028 - val_loss: 0.0306 - val_mae: 0.1543\n",
            "Epoch 80/150\n",
            "464/464 [==============================] - 10s 21ms/step - loss: 0.0119 - mae: 0.1027 - val_loss: 0.0298 - val_mae: 0.1477\n",
            "Epoch 81/150\n",
            "464/464 [==============================] - 10s 21ms/step - loss: 0.0120 - mae: 0.1039 - val_loss: 0.0301 - val_mae: 0.1539\n",
            "Epoch 82/150\n",
            "464/464 [==============================] - 10s 21ms/step - loss: 0.0118 - mae: 0.1032 - val_loss: 0.0292 - val_mae: 0.1443\n",
            "Epoch 83/150\n",
            "464/464 [==============================] - 10s 21ms/step - loss: 0.0116 - mae: 0.1016 - val_loss: 0.0297 - val_mae: 0.1490\n",
            "Epoch 84/150\n",
            "464/464 [==============================] - 10s 21ms/step - loss: 0.0112 - mae: 0.1002 - val_loss: 0.0324 - val_mae: 0.1575\n",
            "Epoch 85/150\n",
            "464/464 [==============================] - 10s 21ms/step - loss: 0.0116 - mae: 0.1015 - val_loss: 0.0278 - val_mae: 0.1455\n",
            "Epoch 86/150\n",
            "464/464 [==============================] - 10s 21ms/step - loss: 0.0118 - mae: 0.1027 - val_loss: 0.0325 - val_mae: 0.1564\n",
            "Epoch 87/150\n",
            "464/464 [==============================] - 10s 21ms/step - loss: 0.0117 - mae: 0.1017 - val_loss: 0.0302 - val_mae: 0.1500\n",
            "Epoch 88/150\n",
            "464/464 [==============================] - 10s 21ms/step - loss: 0.0114 - mae: 0.1006 - val_loss: 0.0307 - val_mae: 0.1511\n",
            "Epoch 89/150\n",
            "464/464 [==============================] - 10s 21ms/step - loss: 0.0115 - mae: 0.1017 - val_loss: 0.0303 - val_mae: 0.1497\n",
            "Epoch 90/150\n",
            "464/464 [==============================] - 10s 20ms/step - loss: 0.0113 - mae: 0.0997 - val_loss: 0.0280 - val_mae: 0.1474\n",
            "MAE has reached below 10%\n",
            "Epoch 91/150\n",
            "464/464 [==============================] - 10s 21ms/step - loss: 0.0113 - mae: 0.1000 - val_loss: 0.0285 - val_mae: 0.1466\n",
            "Epoch 92/150\n",
            "464/464 [==============================] - 9s 20ms/step - loss: 0.0114 - mae: 0.1010 - val_loss: 0.0310 - val_mae: 0.1556\n",
            "Epoch 93/150\n",
            "464/464 [==============================] - 10s 21ms/step - loss: 0.0111 - mae: 0.0993 - val_loss: 0.0297 - val_mae: 0.1445\n",
            "MAE has reached below 10%\n",
            "Epoch 94/150\n",
            "464/464 [==============================] - 10s 22ms/step - loss: 0.0114 - mae: 0.1006 - val_loss: 0.0266 - val_mae: 0.1392\n",
            "Epoch 95/150\n",
            "464/464 [==============================] - 10s 21ms/step - loss: 0.0114 - mae: 0.1010 - val_loss: 0.0296 - val_mae: 0.1486\n",
            "Epoch 96/150\n",
            "464/464 [==============================] - 10s 21ms/step - loss: 0.0111 - mae: 0.0993 - val_loss: 0.0296 - val_mae: 0.1502\n",
            "MAE has reached below 10%\n",
            "Epoch 97/150\n",
            "464/464 [==============================] - 10s 21ms/step - loss: 0.0112 - mae: 0.1000 - val_loss: 0.0321 - val_mae: 0.1566\n",
            "Epoch 98/150\n",
            "464/464 [==============================] - 10s 21ms/step - loss: 0.0113 - mae: 0.0997 - val_loss: 0.0294 - val_mae: 0.1463\n",
            "MAE has reached below 10%\n",
            "Epoch 99/150\n",
            "464/464 [==============================] - 10s 21ms/step - loss: 0.0111 - mae: 0.0990 - val_loss: 0.0322 - val_mae: 0.1586\n",
            "MAE has reached below 10%\n",
            "Epoch 100/150\n",
            "464/464 [==============================] - 10s 21ms/step - loss: 0.0107 - mae: 0.0985 - val_loss: 0.0302 - val_mae: 0.1484\n",
            "MAE has reached below 10%\n",
            "Epoch 101/150\n",
            "464/464 [==============================] - 10s 21ms/step - loss: 0.0110 - mae: 0.0996 - val_loss: 0.0306 - val_mae: 0.1521\n",
            "MAE has reached below 10%\n",
            "Epoch 102/150\n",
            "464/464 [==============================] - 10s 21ms/step - loss: 0.0109 - mae: 0.0988 - val_loss: 0.0290 - val_mae: 0.1450\n",
            "MAE has reached below 10%\n",
            "Epoch 103/150\n",
            "464/464 [==============================] - 10s 21ms/step - loss: 0.0109 - mae: 0.0989 - val_loss: 0.0329 - val_mae: 0.1547\n",
            "MAE has reached below 10%\n",
            "Epoch 104/150\n",
            "464/464 [==============================] - 9s 20ms/step - loss: 0.0109 - mae: 0.0993 - val_loss: 0.0314 - val_mae: 0.1501\n",
            "MAE has reached below 10%\n",
            "Epoch 105/150\n",
            "464/464 [==============================] - 10s 21ms/step - loss: 0.0105 - mae: 0.0965 - val_loss: 0.0312 - val_mae: 0.1520\n",
            "MAE has reached below 10%\n",
            "Epoch 106/150\n",
            "464/464 [==============================] - 10s 22ms/step - loss: 0.0108 - mae: 0.0987 - val_loss: 0.0339 - val_mae: 0.1605\n",
            "MAE has reached below 10%\n",
            "Epoch 107/150\n",
            "464/464 [==============================] - 10s 21ms/step - loss: 0.0108 - mae: 0.0979 - val_loss: 0.0303 - val_mae: 0.1502\n",
            "MAE has reached below 10%\n",
            "Epoch 108/150\n",
            "464/464 [==============================] - 10s 20ms/step - loss: 0.0108 - mae: 0.0981 - val_loss: 0.0299 - val_mae: 0.1492\n",
            "MAE has reached below 10%\n",
            "Epoch 109/150\n",
            "464/464 [==============================] - 10s 21ms/step - loss: 0.0110 - mae: 0.0994 - val_loss: 0.0306 - val_mae: 0.1447\n",
            "MAE has reached below 10%\n",
            "Epoch 110/150\n",
            "464/464 [==============================] - 10s 21ms/step - loss: 0.0109 - mae: 0.0986 - val_loss: 0.0285 - val_mae: 0.1437\n",
            "MAE has reached below 10%\n",
            "Epoch 111/150\n",
            "464/464 [==============================] - 9s 20ms/step - loss: 0.0106 - mae: 0.0976 - val_loss: 0.0286 - val_mae: 0.1443\n",
            "MAE has reached below 10%\n",
            "Epoch 112/150\n",
            "464/464 [==============================] - 10s 21ms/step - loss: 0.0107 - mae: 0.0984 - val_loss: 0.0327 - val_mae: 0.1568\n",
            "MAE has reached below 10%\n",
            "Epoch 113/150\n",
            "464/464 [==============================] - 10s 21ms/step - loss: 0.0106 - mae: 0.0982 - val_loss: 0.0292 - val_mae: 0.1457\n",
            "MAE has reached below 10%\n",
            "Epoch 114/150\n",
            "464/464 [==============================] - 9s 20ms/step - loss: 0.0107 - mae: 0.0974 - val_loss: 0.0291 - val_mae: 0.1423\n",
            "MAE has reached below 10%\n",
            "Epoch 115/150\n",
            "464/464 [==============================] - 10s 21ms/step - loss: 0.0105 - mae: 0.0972 - val_loss: 0.0303 - val_mae: 0.1514\n",
            "MAE has reached below 10%\n",
            "Epoch 116/150\n",
            "464/464 [==============================] - 10s 21ms/step - loss: 0.0105 - mae: 0.0973 - val_loss: 0.0314 - val_mae: 0.1526\n",
            "MAE has reached below 10%\n",
            "Epoch 117/150\n",
            "464/464 [==============================] - 10s 21ms/step - loss: 0.0105 - mae: 0.0973 - val_loss: 0.0302 - val_mae: 0.1515\n",
            "MAE has reached below 10%\n",
            "Epoch 118/150\n",
            "464/464 [==============================] - 10s 21ms/step - loss: 0.0103 - mae: 0.0967 - val_loss: 0.0315 - val_mae: 0.1501\n",
            "MAE has reached below 10%\n",
            "Epoch 119/150\n",
            "464/464 [==============================] - 10s 22ms/step - loss: 0.0102 - mae: 0.0960 - val_loss: 0.0293 - val_mae: 0.1470\n",
            "MAE has reached below 10%\n",
            "Epoch 120/150\n",
            "464/464 [==============================] - 10s 21ms/step - loss: 0.0103 - mae: 0.0964 - val_loss: 0.0322 - val_mae: 0.1562\n",
            "MAE has reached below 10%\n",
            "Epoch 121/150\n",
            "464/464 [==============================] - 10s 21ms/step - loss: 0.0103 - mae: 0.0962 - val_loss: 0.0310 - val_mae: 0.1459\n",
            "MAE has reached below 10%\n",
            "Epoch 122/150\n",
            "464/464 [==============================] - 10s 21ms/step - loss: 0.0104 - mae: 0.0965 - val_loss: 0.0312 - val_mae: 0.1531\n",
            "MAE has reached below 10%\n",
            "Epoch 123/150\n",
            "464/464 [==============================] - 10s 20ms/step - loss: 0.0102 - mae: 0.0964 - val_loss: 0.0316 - val_mae: 0.1512\n",
            "MAE has reached below 10%\n",
            "Epoch 124/150\n",
            "464/464 [==============================] - 10s 21ms/step - loss: 0.0103 - mae: 0.0968 - val_loss: 0.0297 - val_mae: 0.1448\n",
            "MAE has reached below 10%\n",
            "Epoch 125/150\n",
            "464/464 [==============================] - 10s 21ms/step - loss: 0.0102 - mae: 0.0953 - val_loss: 0.0363 - val_mae: 0.1617\n",
            "MAE has reached below 10%\n",
            "Epoch 126/150\n",
            "464/464 [==============================] - 9s 20ms/step - loss: 0.0103 - mae: 0.0964 - val_loss: 0.0347 - val_mae: 0.1566\n",
            "MAE has reached below 10%\n",
            "Epoch 127/150\n",
            "464/464 [==============================] - 10s 21ms/step - loss: 0.0099 - mae: 0.0946 - val_loss: 0.0332 - val_mae: 0.1512\n",
            "MAE has reached below 10%\n",
            "Epoch 128/150\n",
            "464/464 [==============================] - 10s 21ms/step - loss: 0.0105 - mae: 0.0976 - val_loss: 0.0333 - val_mae: 0.1518\n",
            "MAE has reached below 10%\n",
            "Epoch 129/150\n",
            "464/464 [==============================] - 10s 21ms/step - loss: 0.0100 - mae: 0.0950 - val_loss: 0.0336 - val_mae: 0.1543\n",
            "MAE has reached below 10%\n",
            "Epoch 130/150\n",
            "464/464 [==============================] - 10s 21ms/step - loss: 0.0103 - mae: 0.0964 - val_loss: 0.0332 - val_mae: 0.1534\n",
            "MAE has reached below 10%\n",
            "Epoch 131/150\n",
            "464/464 [==============================] - 10s 21ms/step - loss: 0.0101 - mae: 0.0951 - val_loss: 0.0351 - val_mae: 0.1563\n",
            "MAE has reached below 10%\n",
            "Epoch 132/150\n",
            "464/464 [==============================] - 10s 22ms/step - loss: 0.0102 - mae: 0.0956 - val_loss: 0.0334 - val_mae: 0.1524\n",
            "MAE has reached below 10%\n",
            "Epoch 133/150\n",
            "464/464 [==============================] - 10s 21ms/step - loss: 0.0101 - mae: 0.0959 - val_loss: 0.0315 - val_mae: 0.1452\n",
            "MAE has reached below 10%\n",
            "Epoch 134/150\n",
            "464/464 [==============================] - 10s 21ms/step - loss: 0.0097 - mae: 0.0942 - val_loss: 0.0323 - val_mae: 0.1482\n",
            "MAE has reached below 10%\n",
            "Epoch 135/150\n",
            "464/464 [==============================] - 10s 21ms/step - loss: 0.0097 - mae: 0.0943 - val_loss: 0.0299 - val_mae: 0.1484\n",
            "MAE has reached below 10%\n",
            "Epoch 136/150\n",
            "464/464 [==============================] - 10s 21ms/step - loss: 0.0099 - mae: 0.0938 - val_loss: 0.0329 - val_mae: 0.1515\n",
            "MAE has reached below 10%\n",
            "Epoch 137/150\n",
            "464/464 [==============================] - 10s 21ms/step - loss: 0.0097 - mae: 0.0939 - val_loss: 0.0314 - val_mae: 0.1546\n",
            "MAE has reached below 10%\n",
            "Epoch 138/150\n",
            "464/464 [==============================] - 10s 21ms/step - loss: 0.0095 - mae: 0.0936 - val_loss: 0.0299 - val_mae: 0.1471\n",
            "MAE has reached below 10%\n",
            "Epoch 139/150\n",
            "464/464 [==============================] - 10s 20ms/step - loss: 0.0098 - mae: 0.0949 - val_loss: 0.0335 - val_mae: 0.1495\n",
            "MAE has reached below 10%\n",
            "Epoch 140/150\n",
            "464/464 [==============================] - 10s 21ms/step - loss: 0.0098 - mae: 0.0938 - val_loss: 0.0294 - val_mae: 0.1452\n",
            "MAE has reached below 10%\n",
            "Epoch 141/150\n",
            "464/464 [==============================] - 10s 21ms/step - loss: 0.0097 - mae: 0.0949 - val_loss: 0.0347 - val_mae: 0.1523\n",
            "MAE has reached below 10%\n",
            "Epoch 142/150\n",
            "464/464 [==============================] - 9s 20ms/step - loss: 0.0097 - mae: 0.0946 - val_loss: 0.0332 - val_mae: 0.1543\n",
            "MAE has reached below 10%\n",
            "Epoch 143/150\n",
            "464/464 [==============================] - 10s 21ms/step - loss: 0.0096 - mae: 0.0940 - val_loss: 0.0297 - val_mae: 0.1444\n",
            "MAE has reached below 10%\n",
            "Epoch 144/150\n",
            "464/464 [==============================] - 10s 21ms/step - loss: 0.0097 - mae: 0.0941 - val_loss: 0.0324 - val_mae: 0.1470\n",
            "MAE has reached below 10%\n",
            "Epoch 145/150\n",
            "464/464 [==============================] - 10s 21ms/step - loss: 0.0095 - mae: 0.0937 - val_loss: 0.0371 - val_mae: 0.1666\n",
            "MAE has reached below 10%\n",
            "Epoch 146/150\n",
            "464/464 [==============================] - 10s 20ms/step - loss: 0.0092 - mae: 0.0926 - val_loss: 0.0327 - val_mae: 0.1492\n",
            "MAE has reached below 10%\n",
            "Epoch 147/150\n",
            "464/464 [==============================] - 10s 21ms/step - loss: 0.0094 - mae: 0.0928 - val_loss: 0.0306 - val_mae: 0.1492\n",
            "MAE has reached below 10%\n",
            "Epoch 148/150\n",
            "464/464 [==============================] - 10s 21ms/step - loss: 0.0094 - mae: 0.0937 - val_loss: 0.0371 - val_mae: 0.1610\n",
            "MAE has reached below 10%\n",
            "Epoch 149/150\n",
            "464/464 [==============================] - 10s 21ms/step - loss: 0.0094 - mae: 0.0940 - val_loss: 0.0326 - val_mae: 0.1488\n",
            "MAE has reached below 10%\n",
            "Epoch 150/150\n",
            "464/464 [==============================] - 10s 21ms/step - loss: 0.0097 - mae: 0.0935 - val_loss: 0.0341 - val_mae: 0.1535\n",
            "MAE has reached below 10%\n",
            "Done\n"
          ],
          "name": "stdout"
        }
      ]
    },
    {
      "cell_type": "code",
      "metadata": {
        "colab": {
          "base_uri": "https://localhost:8080/",
          "height": 246
        },
        "id": "VX5mV8qWuiYw",
        "outputId": "31d20cb8-716c-4ecb-e81d-9e72f799b884"
      },
      "source": [
        "def show_final_history(history):\n",
        "    fig, ax = plt.subplots(1, 2, figsize=(15,5))\n",
        "    ax[0].set_title('Loss')\n",
        "    ax[0].plot(history.epoch, history.history[\"loss\"], label=\"Train Loss\")\n",
        "    ax[0].plot(history.epoch, history.history[\"val_loss\"], label=\"Validation Loss\")\n",
        "    ax[1].set_title('MAE')\n",
        "    ax[1].plot(history.epoch, history.history[\"mae\"], label=\"Mae\")\n",
        "    ax[1].plot(history.epoch, history.history[\"val_mae\"], label=\"Validation Mae\")\n",
        "    ax[0].legend()\n",
        "    ax[1].legend()\n",
        "\n",
        "show_final_history(history)"
      ],
      "execution_count": 102,
      "outputs": [
        {
          "output_type": "display_data",
          "data": {
            "image/png": "[encoded data removed]",
            "text/plain": [
              "<Figure size 1080x360 with 2 Axes>"
            ]
          },
          "metadata": {
            "tags": [],
            "needs_background": "light"
          }
        }
      ]
    }
  ]
}